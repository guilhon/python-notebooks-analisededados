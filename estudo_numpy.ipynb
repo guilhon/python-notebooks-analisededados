{
 "cells": [
  {
   "cell_type": "code",
   "execution_count": 1,
   "metadata": {},
   "outputs": [],
   "source": [
    "import numpy as np"
   ]
  },
  {
   "cell_type": "code",
   "execution_count": null,
   "metadata": {},
   "outputs": [],
   "source": [
    "help(np,array)"
   ]
  },
  {
   "cell_type": "code",
   "execution_count": null,
   "metadata": {},
   "outputs": [],
   "source": [
    "#Array uma dimensão\n",
    "lista = [1,2,3]\n",
    "meu_array = np.array(lista) #Criando direto: meu_array = np.array([1,2,3])\n",
    "print(\"Meu array é: \", meu_array)\n",
    "print(\"A quantidade de elementos é: \", meu_array.shape)"
   ]
  },
  {
   "cell_type": "code",
   "execution_count": null,
   "metadata": {},
   "outputs": [],
   "source": [
    "#Array de duas dimensão. Cria uma lista de listas (lista aninhada)\n",
    "lista = [[1,2],[2,3],[3,4]]\n",
    "meu_array_2d = np.array(lista, dtype = int)\n",
    "print(\"Meu array é: \", meu_array_2d)\n",
    "print(\"A quantidade de elementos é: \", meu_array.shape)\n",
    "#O 'dtype = int' força o array a ter apenas dados do tipo int"
   ]
  },
  {
   "cell_type": "code",
   "execution_count": null,
   "metadata": {},
   "outputs": [],
   "source": [
    "#Criar um array somente com zeros\n",
    "tupla = (3,3) #Cria uma tupla, nesse caso com e linhas e 3 colunas\n",
    "array_com_zeros = np.zeros(tupla)\n",
    "print(\"Meu array é: \", array_com_zeros)\n",
    "print(\"A quantidade de elementos é: \", array_com_zeros.shape)\n",
    "#Se quiser criar somente com 1, utilizar ones ao invés de zeros"
   ]
  },
  {
   "cell_type": "code",
   "execution_count": null,
   "metadata": {},
   "outputs": [],
   "source": [
    "#Gerar array com valores uniformemente espaçados entre um determinado intervalo.\n",
    "minimo, maximo = (5, 15) #Intervalo\n",
    "array_uniforme = np.linspace(start=minimo, stop=maximo, num=10)\n",
    "print(\"Meu array é: \", array_uniforme)\n",
    "print(\"A quantidade de elementos é: \", array_uniforme.shape)"
   ]
  },
  {
   "cell_type": "code",
   "execution_count": null,
   "metadata": {},
   "outputs": [],
   "source": [
    "#Criação da matriz identidade, com 1 na diagonal e 0 fora dela.\n",
    "dimensao = 4 #Quantidade de dimensões.\n",
    "array_identidade = np.eye(dimensao)\n",
    "print(\"A quantidade de elementos é: \", array_identidade.shape)\n",
    "array_identidade"
   ]
  },
  {
   "cell_type": "code",
   "execution_count": null,
   "metadata": {},
   "outputs": [],
   "source": [
    "#Gerar valores aleatorios.\n",
    "aleatorio = np.random.random()\n",
    "aleatorio"
   ]
  },
  {
   "cell_type": "code",
   "execution_count": null,
   "metadata": {},
   "outputs": [],
   "source": [
    "#Criação da matriz com valores aleatorios.\n",
    "aleatorio = np.random.random(size=(2,3))\n",
    "print(\"A quantidade de elementos é: \", aleatorio.shape)\n",
    "aleatorio"
   ]
  },
  {
   "cell_type": "code",
   "execution_count": null,
   "metadata": {},
   "outputs": [],
   "source": [
    "#Acessando os elementos de um array\n",
    "array_acessar = np.linspace(start=10, stop=100, num=10)\n",
    "print(\"Meu array é: \", array_acessar)\n",
    "print(\"A quantidade de elementos é: \", array_acessar.shape)\n",
    "print(\"O segundo elemento é:\", array_acessar[1])\n",
    "print(\"Os dois primeiros elemento são:\", array_acessar[0:2]) # Ou array_acessar[:2]\n",
    "print(\"Os dois últimos elemento são:\", array_acessar[-2:]) # Ou array_acessar[:2]"
   ]
  },
  {
   "cell_type": "code",
   "execution_count": null,
   "metadata": {},
   "outputs": [],
   "source": [
    "#Redimensionar array\n",
    "array_acessar_2d = array_acessar.reshape(2,5) #Redimensionar o array 1D acima que tinha 10 posições\n",
    "print(array_acessar_2d)\n",
    "array_acessar_2d"
   ]
  },
  {
   "cell_type": "code",
   "execution_count": null,
   "metadata": {},
   "outputs": [],
   "source": [
    "#Acessando os elementos de um array 2D (slice)\n",
    "criando = np.linspace(start=1, stop=40, num=40)\n",
    "array_4_por_10 = criando.reshape(4,10)\n",
    "array_4_por_10"
   ]
  },
  {
   "cell_type": "code",
   "execution_count": null,
   "metadata": {},
   "outputs": [],
   "source": [
    "#Acessando os elementos de um array 2D\n",
    "print(\"Acessar elemento da segunda linha e segunda coluna: \", array_4_por_10[1,1])\n",
    "print(\"Acessar elemento da última linha e terceira coluna: \", array_4_por_10[-1,2])\n",
    "print(\"Acessar elemento da última linha e penúltima coluna: \", array_4_por_10[-1,-2])"
   ]
  },
  {
   "cell_type": "code",
   "execution_count": null,
   "metadata": {},
   "outputs": [],
   "source": [
    "#Acessando os elementos de um array 2D e fazer um slice\n",
    "print(\"Trazer a primeira linha inteira: \", array_4_por_10[0,:]) #Ou array_4_por_10[0,0:10]\n",
    "print(\"Trazer 13 a 15 e 23 a 25: \", array_4_por_10[1:3,2:5]) #1:3 é altura/linha e 2:5 é a coluna\n",
    "print(\"Trazer a segunda coluna inteira: \", array_4_por_10[:,1:2]) #1:3 é altura/linha e 2:5 é a coluna\n",
    "print(\"Trazer a última coluna inteira: \", array_4_por_10[:,-1]) #1:3 é altura/linha e 2:5 é a coluna"
   ]
  },
  {
   "cell_type": "code",
   "execution_count": null,
   "metadata": {},
   "outputs": [],
   "source": [
    "#Atenção com compartilhamento de memória com subarrays ao fazer slice\n",
    "x = np.array([1,2,3]) #Criou umm array\n",
    "print(x)\n",
    "diferente_do_x = x[:2].copy() #Criou outro array copiando o primeiro com independência de memória\n",
    "igual_ao_x = x[:2] #Criou outro array copiando o primeiro compartilhando de memória\n",
    "igual_ao_x[0] = 100 #Alterou o array que compartilha memória e assim também altera o array original\n",
    "diferente_do_x[0] = 200 #Alterou o array com independência de memória e não altera o array original\n",
    "print(x)\n",
    "print(igual_ao_x)\n",
    "print(diferente_do_x)"
   ]
  },
  {
   "cell_type": "code",
   "execution_count": null,
   "metadata": {},
   "outputs": [],
   "source": [
    "#Operações com Arrays. Abaixo tudo pode ser feito com todas as operações, soma, subtração, divisão e multiplicação.\n",
    "x = np.ones((3,3)) #Array somente com 1\n",
    "y = np.eye(3) #Matriz identidade, com 1 na diagonal\n",
    "soma_de_array = x + y #Soma um array com outro, posição por posição.\n",
    "print(soma_de_array)\n",
    "soma_de_array_broadcasting = x + 2 #Soma o array com 3 (posição por posição). Vai ficar tudo 3.\n",
    "print(soma_de_array_broadcasting)"
   ]
  },
  {
   "cell_type": "code",
   "execution_count": null,
   "metadata": {},
   "outputs": [],
   "source": [
    "#Multiplicação matricial\n",
    "array1 = np.array([[2,3,1],[-1,0,2]]) #Cria uma matriz 2,3\n",
    "array2 = np.array([[1,-2],[0,5],[4,1]]) #Cria uma matriz 3,2\n",
    "print(array1 @ array2)\n",
    "print(np.dot(array1,array2)) #Outra forma\n",
    "print(array1.dot(array2)) #Outra forma\n",
    "\n",
    "#Explicação Multiplicação matricial\n",
    "#O número de colunas da primeira matriz tem que ser igual ao número de linhas da segunda matriz.\n",
    "#No exemplo abaixo, a matriz array1 é do tipo 2x3 e a matriz array2 é do tipo 3x2. \n",
    "#Portanto, o produto entre elas resultará numa matriz 2x2.\n",
    "#Inicialmente, vamos multiplicar os elementos da linha 1 de array1 com os da coluna 1 de array2: \n",
    "#Encontrados os produtos, vamos somar todos esses valores: 2 . 1 + 3 . 0 + 1 . 4 = 6\n",
    "#Por conseguinte, vamos multiplicar e somar os elementos da linha 1 de array1 com a coluna 2 de array2:\n",
    "#Encontrados os produtos, vamos somar todos esses valores: 2 . (-2) + 3 . 5 + 1 . 1 = 12\n",
    "#Depois disso, vamos passar para a linha 2 de array1 e multiplicar e somar com a coluna 1 de array2:\n",
    "#(-1) . 1 + 0 . 0 + 2 . 4 = 7\n",
    "#Ainda na linha 2 de A, vamos multiplicar e somar com a coluna 2 de B:\n",
    "#(-1) . (-2) + 0 . 5 + 2 . 1 = 4"
   ]
  },
  {
   "cell_type": "code",
   "execution_count": null,
   "metadata": {},
   "outputs": [],
   "source": [
    "#Comparações entre Arrays\n",
    "array_1 = np.array([[1,2],[3,4]])\n",
    "array_2 = np.array([[1.5],[3.5]])\n",
    "print(\"Comparação 01:\\n\", array_1 > 2, \"\\n\")\n",
    "print(\"Comparação 02:\\n\", array_1 >= 2, \"\\n\")\n",
    "print(\"Comparação 03:\\n\", array_1 < 2, \"\\n\")\n",
    "print(\"Comparação 04:\\n\", array_1 == array_1, \"\\n\")\n",
    "print(\"Comparação 04:\\n\", array_1 == array_2, \"\\n\")\n",
    "print(\"Comparação 05:\\n\", array_1 > array_1, \"\\n\")\n",
    "print(\"Comparação 06:\\n\", array_1 > array_2, \"\\n\")"
   ]
  },
  {
   "cell_type": "code",
   "execution_count": null,
   "metadata": {},
   "outputs": [],
   "source": [
    "#Indexação booleana: Retornando valores que atendam a uma condicional.\n",
    "array_teste = np.array([[1,3,7],\n",
    "                     [4,11,21],\n",
    "                     [42,8,9]])\n",
    "valor = 10\n",
    "condicional_1 = array_teste > valor #Retorna um vetor TRUE x False\n",
    "print(\"Comparação booleana com a condicional:\\n\", condicional_1, \"\\n\")\n",
    "print(\"Valores que atendem a condicional:\\n\", array_teste[condicional_1], \"\\n\")\n",
    "print(\"Quantidade de valores que atendem a condicional:\\n\", len(array_teste[condicional_1]), \"\\n\")\n",
    "condicional_2 = array_teste % 2 == 0 # Retorna um vetor TRUE x False\n",
    "print(\"Retorna somente os valores pares:\\n\", array_teste[condicional_2], \"\\n\")"
   ]
  },
  {
   "cell_type": "code",
   "execution_count": null,
   "metadata": {},
   "outputs": [],
   "source": [
    "#Operações úteis - Método RESHAPE\n",
    "array_teste = np.array([[1,3,7],\n",
    "                     [4,11,21],\n",
    "                     [42,8,9]])\n",
    "print(array_teste.reshape(1,9)) #Array 3x3 exibido como uma matriz com uma linha e 9 colunas\n",
    "print(array_teste.reshape(9,1)) #Array 3x3 exibido como uma matriz com uma coluna e 9 linhas"
   ]
  },
  {
   "cell_type": "code",
   "execution_count": null,
   "metadata": {},
   "outputs": [],
   "source": [
    "#Operações úteis - Transposição de Matriz (fazer linha ser coluna e coluna ser matriz)\n",
    "print(array_teste.T)"
   ]
  },
  {
   "cell_type": "code",
   "execution_count": null,
   "metadata": {},
   "outputs": [],
   "source": [
    "#Operações úteis - Método SUM (somar elemento de matrix)\n",
    "array_teste = np.array([[1,3,7],\n",
    "                     [4,11,21],\n",
    "                     [42,8,9]])\n",
    "print(np.sum(array_teste)) #Soma todo o Array \n",
    "print(np.sum(array_teste, axis=0)) #Retorna novo Array com a soma das colunas.\n",
    "print(np.sum(array_teste, axis=1)) #Retorna novo Array com a soma das linhas."
   ]
  },
  {
   "cell_type": "code",
   "execution_count": null,
   "metadata": {},
   "outputs": [],
   "source": [
    "#Operações úteis - Método MEAN (tirar a média elementos de matrix)\n",
    "array_teste = np.array([[1,3,7],\n",
    "                     [4,11,21],\n",
    "                     [42,8,9]])\n",
    "print(np.mean(array_teste)) #Média de todo o Array \n",
    "print(np.mean(array_teste, axis=0)) #Retorna média das colunas.\n",
    "print(np.mean(array_teste, axis=1)) #Retorna média das linhas."
   ]
  },
  {
   "cell_type": "code",
   "execution_count": null,
   "metadata": {},
   "outputs": [],
   "source": [
    "#Operações úteis - Método WHERE (localizar o índice onde uma determinda condição for verdadeira)\n",
    "array_teste = np.array([[1,3,7],\n",
    "                     [4,11,21],\n",
    "                     [42,8,9]])\n",
    "condicional = array_teste % 2 == 0 # Condicional de exemplo. Buscar números pares. Retorna um vetor TRUE x False\n",
    "linha, coluna = np.where(condicional)\n",
    "print(\" Índice - Linhas: \", linha)\n",
    "print(\"Índice - Colunas: \", coluna)\n",
    "# O resultado será:\n",
    "#[1 2 2]\n",
    "#[0 0 1]\n",
    "#Ou seja, na linha 1 e coluna 0 tem um item que atende a condição\n",
    "#Na linha 2 e coluna 0 tem um item que atende a condição e na linha 2 e coluna 1 tem um item que atende a condição."
   ]
  },
  {
   "cell_type": "code",
   "execution_count": null,
   "metadata": {},
   "outputs": [],
   "source": [
    "#Operações úteis - Método WHERE (retornar as linhas que tem algum número PAR)\n",
    "array_teste = np.array([[1,3,7],\n",
    "                     [4,11,21],\n",
    "                     [42,8,9]])\n",
    "condicional = array_teste % 2 == 0 # Condicional buscando números pares. Retorna um vetor TRUE x False\n",
    "indice_linhas = np.where(np.sum(condicional, axis=1))[0]\n",
    "print(\"Índice das linhas que possuem números pares: \", indice_linhas)\n",
    "print(\"Linhas que possuem números pares: \\n\", array_teste[indice_linhas, :])"
   ]
  },
  {
   "cell_type": "code",
   "execution_count": null,
   "metadata": {},
   "outputs": [],
   "source": [
    "#REGRESSÃO LINEAR\n",
    "import matplotlib.pyplot as plt #\n",
    "x = [-1., -0.77777778, -0.55555556, -0.33333333, -0.11111111, 0.11111111, 0.33333333, 0.55555556, 0.77777778, 1.]\n",
    "y = [-1.13956201, -0.57177999, -0.21697033, 0.5425699, 0.49406657, 1.14972239, 1.64228553, 2.1749824, 2.64773614, 2.95684202]\n",
    "#plot dos dados\n",
    "plt.figure(figsize=(10,5))\n",
    "plt.plot(x, y, 'o', label='Dados Originais')\n",
    "plt.legend()\n",
    "plt.xlabel(\"Eixo X\")\n",
    "plt.ylabel(\"Eixo Y\")\n",
    "plt.grid()\n",
    "plt.show()"
   ]
  },
  {
   "cell_type": "code",
   "execution_count": null,
   "metadata": {},
   "outputs": [],
   "source": [
    "# O x e o y são listas que vamos transformar em arrays e trasnforma-los em vetor coluna \n",
    "# O reshape diz que é pra montar um array com 1 coluna e o -1 diz que é para o numpy montar a quantidade...\n",
    "# ... de linhas suficientes para que a dimensão do array resultante seja consistente (calcular automaticamente as linhas).\n",
    "x, y = np.array(x).reshape(-1,1), np.array(y).reshape(-1,1)"
   ]
  },
  {
   "cell_type": "code",
   "execution_count": null,
   "metadata": {},
   "outputs": [],
   "source": [
    "# Vamos criar um Array igual ao anterior mas somente com valores 1 (ones) e concatena-lo com o Array anterior\n",
    "z = np.hstack((x, np.ones(x.shape)))"
   ]
  },
  {
   "cell_type": "code",
   "execution_count": null,
   "metadata": {},
   "outputs": [],
   "source": [
    "estimar_pontos = np.linalg.pinv(z).dot(y)\n",
    "print(\"Ponto A estimado: \", estimar_pontos[0][0])\n",
    "print(\"Ponto B estimado: \", estimar_pontos[1][0])"
   ]
  },
  {
   "cell_type": "code",
   "execution_count": null,
   "metadata": {},
   "outputs": [],
   "source": [
    "plt.figure(figsize=(10,5))\n",
    "plt.plot(x, y, 'o', label='Dados Originais')\n",
    "plt.plot(x, z.dot(estimar_pontos), label='Regressão Linear')\n",
    "plt.legend()\n",
    "plt.xlabel(\"Eixo X\")\n",
    "plt.ylabel(\"Eixo Y\")\n",
    "plt.title(\"Regressão Linear com NumPy\")\n",
    "plt.grid()\n",
    "plt.show()"
   ]
  }
 ],
 "metadata": {
  "kernelspec": {
   "display_name": "Python 3",
   "language": "python",
   "name": "python3"
  },
  "language_info": {
   "codemirror_mode": {
    "name": "ipython",
    "version": 3
   },
   "file_extension": ".py",
   "mimetype": "text/x-python",
   "name": "python",
   "nbconvert_exporter": "python",
   "pygments_lexer": "ipython3",
   "version": "3.8.3"
  }
 },
 "nbformat": 4,
 "nbformat_minor": 4
}
