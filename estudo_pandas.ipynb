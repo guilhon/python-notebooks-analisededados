{
 "cells": [
  {
   "cell_type": "code",
   "execution_count": 1,
   "metadata": {},
   "outputs": [],
   "source": [
    "import pandas as pd"
   ]
  },
  {
   "cell_type": "code",
   "execution_count": null,
   "metadata": {},
   "outputs": [],
   "source": [
    "basededados = pd.read_csv(\"D:/projetos_git/estudo_python/temperature.csv\")\n",
    "basededados"
   ]
  },
  {
   "cell_type": "code",
   "execution_count": null,
   "metadata": {},
   "outputs": [],
   "source": [
    "# Saber os tipos de dados\n",
    "arquivo.dtypes"
   ]
  },
  {
   "cell_type": "code",
   "execution_count": null,
   "metadata": {},
   "outputs": [],
   "source": [
    "# Leitura de planilha de excel com duas abas (worksheets)\n",
    "# SE O SEPARADOR DECIMAL DOS VALORES NO ARQUIVO FOR A VÍRGULA, É PRECISO UTILIZAR O decimal=','\n",
    "# Se o decimal=',' não for utilizado, o tipo dos dados será setado como string\n",
    "arquivo_excel = pd.ExcelFile(\"D:/projetos_git/estudo_python/temperature.xlsx\")\n",
    "basededados = pd.read_excel(arquivo_excel, sheet_name='Sheet2', decimal=',')\n",
    "basededados"
   ]
  },
  {
   "cell_type": "code",
   "execution_count": null,
   "metadata": {},
   "outputs": [],
   "source": [
    "# Visualizar as primeiras n linhas\n",
    "planilha_n_primeiras = basededados\n",
    "linhas = 3\n",
    "planilha_n_primeiras.head(linhas)"
   ]
  },
  {
   "cell_type": "code",
   "execution_count": null,
   "metadata": {},
   "outputs": [],
   "source": [
    "# Visualizar as n últimas linhas\n",
    "planilha_n_ultimas = basededados\n",
    "linhas = 2\n",
    "planilha_n_ultimas.tail(linhas)"
   ]
  },
  {
   "cell_type": "code",
   "execution_count": null,
   "metadata": {},
   "outputs": [],
   "source": [
    "# O comando abaixo vai mostrar que o campo de data não está setado com o tipo correto, que seria datetime.\n",
    "basededados.dtypes"
   ]
  },
  {
   "cell_type": "code",
   "execution_count": 25,
   "metadata": {},
   "outputs": [],
   "source": [
    "# Para setar o tipo correto de dados. Após setar, rodar de novo o comando dtypes para conferir.\n",
    "basededados['date'] = pd.to_datetime(basededados['date'])"
   ]
  },
  {
   "cell_type": "code",
   "execution_count": null,
   "metadata": {},
   "outputs": [],
   "source": [
    "# Estatísticas básicas\n",
    "basededados.describe()"
   ]
  },
  {
   "cell_type": "code",
   "execution_count": null,
   "metadata": {},
   "outputs": [],
   "source": [
    "# Informações do dataframe\n",
    "basededados.info()"
   ]
  },
  {
   "cell_type": "code",
   "execution_count": null,
   "metadata": {},
   "outputs": [],
   "source": [
    "# Nome das colunas\n",
    "basededados.columns"
   ]
  },
  {
   "cell_type": "code",
   "execution_count": null,
   "metadata": {},
   "outputs": [],
   "source": [
    "# Acessa somente uma coluna\n",
    "basededados['temperatura']"
   ]
  },
  {
   "cell_type": "code",
   "execution_count": null,
   "metadata": {},
   "outputs": [],
   "source": [
    "type(basededados['temperatura'])"
   ]
  },
  {
   "cell_type": "code",
   "execution_count": null,
   "metadata": {},
   "outputs": [],
   "source": [
    "# Acessa mais de uma coluna. Vai exibir conforme a ordem que for escrito.\n",
    "basededados[['temperatura','date']]"
   ]
  },
  {
   "cell_type": "code",
   "execution_count": null,
   "metadata": {},
   "outputs": [],
   "source": [
    "#Acessar todas as linhas da coluna 1 (ILOC)\n",
    "basededados.iloc[:,1]"
   ]
  },
  {
   "cell_type": "code",
   "execution_count": null,
   "metadata": {},
   "outputs": [],
   "source": [
    "#Acessar todas as linhas da coluna 1 (LOC)\n",
    "basededados.loc[:,'temperatura']"
   ]
  },
  {
   "cell_type": "code",
   "execution_count": null,
   "metadata": {},
   "outputs": [],
   "source": [
    "#Acessar todas as linhas da coluna 1 e 2\n",
    "basededados.iloc[:,1:3]"
   ]
  },
  {
   "cell_type": "code",
   "execution_count": null,
   "metadata": {},
   "outputs": [],
   "source": [
    "#Acessar um intervalo específico de linhas e colunas\n",
    "basededados.iloc[2:4,1:3]"
   ]
  },
  {
   "cell_type": "code",
   "execution_count": null,
   "metadata": {},
   "outputs": [],
   "source": [
    "#Acessar todas as linhas da coluna temperatura e da coluna classification\n",
    "basededados.loc[:,['temperatura','classification']]"
   ]
  },
  {
   "cell_type": "code",
   "execution_count": null,
   "metadata": {},
   "outputs": [],
   "source": [
    "#Acessar todas as linhas da coluna 1 até o final de todas as colunas (ILOC)\n",
    "basededados.iloc[:,1:]"
   ]
  },
  {
   "cell_type": "code",
   "execution_count": null,
   "metadata": {},
   "outputs": [],
   "source": [
    "#Acessar todas as linhas da coluna 1 até o final de todas as colunas (ILOC)\n",
    "basededados.loc[:,'temperatura':]"
   ]
  },
  {
   "cell_type": "code",
   "execution_count": 32,
   "metadata": {},
   "outputs": [],
   "source": [
    "#Setar uma nova coluna como index (como ID)\n",
    "basededados = basededados.set_index('date')"
   ]
  },
  {
   "cell_type": "code",
   "execution_count": null,
   "metadata": {},
   "outputs": [],
   "source": [
    "#Selecionar somente as linhas com temperatura acima de 25\n",
    "basededados[basededados['temperatura']>=25]"
   ]
  },
  {
   "cell_type": "code",
   "execution_count": null,
   "metadata": {},
   "outputs": [],
   "source": [
    "# Acessar por index\n",
    "#basededados[basededados.index <= 2]\n",
    "basededados[basededados.index <= '2020-03-01']"
   ]
  },
  {
   "cell_type": "code",
   "execution_count": null,
   "metadata": {},
   "outputs": [],
   "source": [
    "# Acessar por index e mostrar somente uma coluna com LOC\n",
    "basededados.loc[basededados.index <= '2020-03-01', ['classification']]"
   ]
  },
  {
   "cell_type": "code",
   "execution_count": null,
   "metadata": {},
   "outputs": [],
   "source": [
    "# Acessar por index e mostrar somente uma coluna com ILOC\n",
    "basededados.iloc[basededados.index <= '2020-03-01', [-1]]"
   ]
  },
  {
   "cell_type": "code",
   "execution_count": null,
   "metadata": {},
   "outputs": [],
   "source": [
    "# Ordenar por coluna\n",
    "basededados.sort_values(by='temperatura')"
   ]
  },
  {
   "cell_type": "code",
   "execution_count": null,
   "metadata": {},
   "outputs": [],
   "source": [
    "# Ordenar por coluna de forma descrescente\n",
    "basededados.sort_values(by='temperatura', ascending=False)"
   ]
  },
  {
   "cell_type": "code",
   "execution_count": null,
   "metadata": {},
   "outputs": [],
   "source": [
    "# Ordenar por mais de uma coluna\n",
    "basededados.sort_values(by=['classification','temperatura'])"
   ]
  },
  {
   "cell_type": "code",
   "execution_count": null,
   "metadata": {},
   "outputs": [],
   "source": [
    "# Ordenar pelo index (ordem de entrada no banco)\n",
    "basededados.sort_index()"
   ]
  },
  {
   "cell_type": "code",
   "execution_count": null,
   "metadata": {},
   "outputs": [],
   "source": [
    "# Ordenar pelo index (ordem de entrada no banco) de trás para frente\n",
    "basededados.sort_index(ascending=False)"
   ]
  },
  {
   "cell_type": "code",
   "execution_count": null,
   "metadata": {},
   "outputs": [],
   "source": [
    "# Ordenar pelo index (ordem de entrada no banco) de trás para frente\n",
    "# Precisa antes trocar o tipo de dados da data e também setar a data como a ID da base de dados.\n",
    "basededados.plot()"
   ]
  },
  {
   "cell_type": "code",
   "execution_count": null,
   "metadata": {},
   "outputs": [],
   "source": [
    "# Melhorias no  plot.\n",
    "basededados.plot(figsize=(10,5), grid=True, style='-o', linewidth=2.5, color='#b05dcf');"
   ]
  },
  {
   "cell_type": "code",
   "execution_count": null,
   "metadata": {},
   "outputs": [],
   "source": [
    "# Quantas vezes cada classificação apereceu?\n",
    "basededados['classification'].value_counts()"
   ]
  },
  {
   "cell_type": "code",
   "execution_count": null,
   "metadata": {},
   "outputs": [],
   "source": [
    "# Agora um gráfico para mostrar quantas vezes cada classificação apereceu\n",
    "basededados['classification'].value_counts().plot.bar(figsize=(6,4), rot=30);"
   ]
  },
  {
   "cell_type": "code",
   "execution_count": null,
   "metadata": {},
   "outputs": [],
   "source": [
    "# Agora um gráfico de pizza com porcentagem\n",
    "basededados['classification'].value_counts().plot.pie(figsize=(10,10), autopct='%1.1f%%', shadow=True);"
   ]
  },
  {
   "cell_type": "code",
   "execution_count": null,
   "metadata": {},
   "outputs": [],
   "source": [
    "# Média dos valores únicos da classificação.\n",
    "basededados.groupby(by='classification').mean()"
   ]
  },
  {
   "cell_type": "code",
   "execution_count": null,
   "metadata": {},
   "outputs": [],
   "source": [
    "# Soma dos valores únicos da classificação.\n",
    "basededados.groupby(by='classification').sum()"
   ]
  },
  {
   "cell_type": "code",
   "execution_count": null,
   "metadata": {},
   "outputs": [],
   "source": [
    "# Remoção de uma coluna apenas para exibição (não altera o objeto)\n",
    "basededados.drop('classification', axis=1)"
   ]
  },
  {
   "cell_type": "code",
   "execution_count": 74,
   "metadata": {},
   "outputs": [],
   "source": [
    "# Para mostrar como remove de fato a coluna, vamos primeiro criar uma cópia do DataFrame.\n",
    "basededados2 = basededados.copy()"
   ]
  },
  {
   "cell_type": "code",
   "execution_count": null,
   "metadata": {},
   "outputs": [],
   "source": [
    "# Remoção de uma coluna de verdade utilizando o inplace=True (altera o objeto)\n",
    "basededados2.drop('classification', axis=1, inplace=True)\n",
    "basededados2"
   ]
  },
  {
   "cell_type": "code",
   "execution_count": null,
   "metadata": {},
   "outputs": [],
   "source": [
    "#Você também pode fazer a operação sem o inplace mas direcionando para uma nova variável\n",
    "#Mas atenção! Nesse caso basededados e basededados3 estão compartilhando memória!\n",
    "basededados3 = basededados.drop('classification', axis=1)\n",
    "basededados3"
   ]
  }
 ],
 "metadata": {
  "kernelspec": {
   "display_name": "Python 3",
   "language": "python",
   "name": "python3"
  },
  "language_info": {
   "codemirror_mode": {
    "name": "ipython",
    "version": 3
   },
   "file_extension": ".py",
   "mimetype": "text/x-python",
   "name": "python",
   "nbconvert_exporter": "python",
   "pygments_lexer": "ipython3",
   "version": "3.8.3"
  }
 },
 "nbformat": 4,
 "nbformat_minor": 4
}
