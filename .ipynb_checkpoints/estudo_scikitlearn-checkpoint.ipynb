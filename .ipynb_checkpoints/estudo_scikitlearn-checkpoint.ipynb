{
 "cells": [
  {
   "cell_type": "code",
   "execution_count": null,
   "metadata": {},
   "outputs": [],
   "source": [
    "# Objetivo desse notebook é criar um aprendizado de máquina\n",
    "# A máquina deverá receber um valor de temperaura e dizer qual a classificação mais acertada para a temperatura\n",
    "import pandas as pd\n",
    "bd = pd.read_csv(\"D:/projetos_git/estudo_python/temperature.csv\")\n",
    "bd"
   ]
  },
  {
   "cell_type": "code",
   "execution_count": null,
   "metadata": {},
   "outputs": [],
   "source": [
    "# Cria dois arrays com as informações de temperatura e classification \n",
    "x, y = bd[['temperatura']].values, bd[['classification']].values\n",
    "print(x)\n",
    "print(y)"
   ]
  },
  {
   "cell_type": "code",
   "execution_count": null,
   "metadata": {},
   "outputs": [],
   "source": [
    "# Para nosso objetivo funcionar, será necessário importar a classe LabelEncoder do Scikit Learn\n",
    "# Essa classe servirá para transformar os valores strings (quente, muito quente, confortavel, etc)\n",
    "# A transformação será feita para valores numéricos (será apenas uma representação)\n",
    "# Esse procedimento é necessário para que o modelo matemático funcione\n",
    "from sklearn.preprocessing import LabelEncoder\n",
    "transformar = LabelEncoder() #instanciando a classe LabelEncoder\n",
    "y = transformar.fit_transform(y.ravel())\n",
    "print(y)"
   ]
  },
  {
   "cell_type": "code",
   "execution_count": null,
   "metadata": {},
   "outputs": [],
   "source": [
    "# Agora é necessário importar a classe LogisticRegression do Scikit Learn\n",
    "# Essa é a classe necessária para a máquina aprender os padrões dos dados existentes\n",
    "from sklearn.linear_model import LogisticRegression\n",
    "aprendizado = LogisticRegression() #instanciando a classe LogisticRegression\n",
    "aprendizado.fit(x, y) # executa o aprendizado"
   ]
  },
  {
   "cell_type": "code",
   "execution_count": null,
   "metadata": {},
   "outputs": [],
   "source": [
    "# Agora vamos criar 11 valores aleatorios de temperatura para que o modelo diga qual a classificação dessas temperaturas\n",
    "import numpy as np\n",
    "x_valores_aleatorios = np.linspace(start=0., stop=45., num=11).reshape(-1,1)\n",
    "x_valores_aleatorios"
   ]
  },
  {
   "cell_type": "code",
   "execution_count": null,
   "metadata": {},
   "outputs": [],
   "source": [
    "# Aqui a máquina vai nos dizer quais classificações ela atribui as temperaturas que foram criadas anteriormente\n",
    "y_resultado_da_predicao = aprendizado.predict(x_valores_aleatorios)\n",
    "y_resultado_da_predicao"
   ]
  },
  {
   "cell_type": "code",
   "execution_count": null,
   "metadata": {},
   "outputs": [],
   "source": [
    "y_resultado_em_string = transformar.inverse_transform(y_resultado_da_predicao)\n",
    "print(y_resultado_em_string)"
   ]
  },
  {
   "cell_type": "code",
   "execution_count": null,
   "metadata": {},
   "outputs": [],
   "source": [
    "# Agora vamos criar um pandas DataFrame para facilitar a visualização\n",
    "novas_analises = {'Novas temperaturas': x_valores_aleatorios.ravel(),\n",
    "                 'Novas classifications': y_resultado_em_string.ravel(),}\n",
    "novas_analises = pd.DataFrame(novas_analises)\n",
    "print(novas_analises)\n",
    "print(bd)"
   ]
  },
  {
   "cell_type": "code",
   "execution_count": null,
   "metadata": {},
   "outputs": [],
   "source": [
    "# Pequeno sistema para analisar temperaturas e determinar classificação\n",
    "continua = True\n",
    "while continua:\n",
    "    temperatura = input(\"Insira a temperatura: \")\n",
    "    # transformar para numpy array\n",
    "    temperatura = np.array(float(temperatura)).reshape(-1,1)\n",
    "    # realiza a classificação\n",
    "    classificacao_temperatura = aprendizado.predict(temperatura)\n",
    "    # transformação inversa para retornar a classificação original\n",
    "    classificacao_temperatura = transformar.inverse_transform(classificacao_temperatura)\n",
    "    # classificação\n",
    "    print(f\"A classificação da temperatura {temperatura.ravel()[0]} é: \", classificacao_temperatura[0])\n",
    "    continua = input(\"Entrar com nova temperatura? (s/n): \") == 's'"
   ]
  },
  {
   "cell_type": "code",
   "execution_count": 1,
   "metadata": {},
   "outputs": [
    {
     "data": {
      "image/png": "[encoded data removed]",
      "text/plain": [
       "<Figure size 720x360 with 1 Axes>"
      ]
     },
     "metadata": {
      "needs_background": "light"
     },
     "output_type": "display_data"
    }
   ],
   "source": [
    "#REGRESSÃO LINEAR COM SCIKIT LEARN\n",
    "# Mesma regressão feita com Numpy\n",
    "import matplotlib.pyplot as plt #\n",
    "x = [-1., -0.77777778, -0.55555556, -0.33333333, -0.11111111, 0.11111111, 0.33333333, 0.55555556, 0.77777778, 1.]\n",
    "y = [-1.13956201, -0.57177999, -0.21697033, 0.5425699, 0.49406657, 1.14972239, 1.64228553, 2.1749824, 2.64773614, 2.95684202]\n",
    "#plot dos dados\n",
    "plt.figure(figsize=(10,5))\n",
    "plt.plot(x, y, 'o', label='Dados Originais')\n",
    "plt.legend()\n",
    "plt.xlabel(\"Eixo X\")\n",
    "plt.ylabel(\"Eixo Y\")\n",
    "plt.grid()\n",
    "plt.show()"
   ]
  },
  {
   "cell_type": "code",
   "execution_count": null,
   "metadata": {},
   "outputs": [],
   "source": [
    "# Transformando em Numpy Array"
   ]
  }
 ],
 "metadata": {
  "kernelspec": {
   "display_name": "Python 3",
   "language": "python",
   "name": "python3"
  },
  "language_info": {
   "codemirror_mode": {
    "name": "ipython",
    "version": 3
   },
   "file_extension": ".py",
   "mimetype": "text/x-python",
   "name": "python",
   "nbconvert_exporter": "python",
   "pygments_lexer": "ipython3",
   "version": "3.8.3"
  }
 },
 "nbformat": 4,
 "nbformat_minor": 4
}
